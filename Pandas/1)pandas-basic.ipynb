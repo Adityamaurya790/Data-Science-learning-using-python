{
 "cells": [
  {
   "cell_type": "markdown",
   "id": "46a00a7b-aac5-428d-a3ec-b1a8f222d1d5",
   "metadata": {},
   "source": [
    "# Pandas basic"
   ]
  },
  {
   "cell_type": "markdown",
   "id": "fa6d448f-971e-4baa-8931-d6d0ef83ece6",
   "metadata": {},
   "source": [
    "## creating series in pandas (Note use capital S in Series)"
   ]
  },
  {
   "cell_type": "code",
   "execution_count": 19,
   "id": "b3165a54-4ea4-4f50-b85c-d1cf3c608494",
   "metadata": {},
   "outputs": [],
   "source": [
    "# A series is a one dimensional labeled array capable of holding any data type. the axis labeld are collectively called the index."
   ]
  },
  {
   "cell_type": "code",
   "execution_count": 12,
   "id": "7ff49b5e-0459-4c3b-a5fe-ad8e4f3eb266",
   "metadata": {},
   "outputs": [],
   "source": [
    "import pandas as pd\n",
    "import numpy as np"
   ]
  },
  {
   "cell_type": "code",
   "execution_count": 25,
   "id": "b6a886b8-0d34-4459-a076-2a542acfd9fc",
   "metadata": {},
   "outputs": [
    {
     "data": {
      "text/plain": [
       "0    1\n",
       "1    2\n",
       "2    3\n",
       "3    4\n",
       "4    5\n",
       "dtype: int64"
      ]
     },
     "execution_count": 25,
     "metadata": {},
     "output_type": "execute_result"
    }
   ],
   "source": [
    "#  creating panda series using array\n",
    "a = np.array([1,2,3,4,5])\n",
    "series1 = pd.Series(a)\n",
    "series1"
   ]
  },
  {
   "cell_type": "code",
   "execution_count": 27,
   "id": "27ec9087-6498-42a7-b82d-59fdbcb58a9c",
   "metadata": {},
   "outputs": [
    {
     "data": {
      "text/plain": [
       "a    1\n",
       "b    2\n",
       "c    3\n",
       "d    4\n",
       "e    5\n",
       "dtype: int64"
      ]
     },
     "execution_count": 27,
     "metadata": {},
     "output_type": "execute_result"
    }
   ],
   "source": [
    "# creating index in the series using (index = labels/variable name)\n",
    "labels = ['a','b','c','d','e']\n",
    "series2 = pd.Series(a,index=labels)\n",
    "series2\n"
   ]
  },
  {
   "cell_type": "code",
   "execution_count": 17,
   "id": "7787d8ff-f22d-44b3-80c1-2a436a2d8217",
   "metadata": {},
   "outputs": [
    {
     "data": {
      "text/plain": [
       "0    a\n",
       "1    b\n",
       "2    c\n",
       "3    d\n",
       "dtype: object"
      ]
     },
     "execution_count": 17,
     "metadata": {},
     "output_type": "execute_result"
    }
   ],
   "source": [
    "# creating panda series as list\n",
    "l1 = ['a','b','c','d']\n",
    "series = pd.Series(l1)\n",
    "series\n"
   ]
  },
  {
   "cell_type": "code",
   "execution_count": 18,
   "id": "89af4034-0349-4211-bfec-f303883221a1",
   "metadata": {},
   "outputs": [
    {
     "data": {
      "text/plain": [
       "name       Aditya\n",
       "Age            22\n",
       "country     india\n",
       "dtype: object"
      ]
     },
     "execution_count": 18,
     "metadata": {},
     "output_type": "execute_result"
    }
   ],
   "source": [
    "# creating panda series using dictinory\n",
    "dict = {\n",
    "    'name':'Aditya',\n",
    "    'Age':22,\n",
    "    'country':'india'}\n",
    "\n",
    "series3 = pd.Series(dict)\n",
    "series3"
   ]
  },
  {
   "cell_type": "code",
   "execution_count": null,
   "id": "47e7e00c-5985-4c91-9c7e-50dc6e357544",
   "metadata": {},
   "outputs": [],
   "source": []
  }
 ],
 "metadata": {
  "kernelspec": {
   "display_name": "Python 3 (ipykernel)",
   "language": "python",
   "name": "python3"
  },
  "language_info": {
   "codemirror_mode": {
    "name": "ipython",
    "version": 3
   },
   "file_extension": ".py",
   "mimetype": "text/x-python",
   "name": "python",
   "nbconvert_exporter": "python",
   "pygments_lexer": "ipython3",
   "version": "3.13.5"
  }
 },
 "nbformat": 4,
 "nbformat_minor": 5
}
