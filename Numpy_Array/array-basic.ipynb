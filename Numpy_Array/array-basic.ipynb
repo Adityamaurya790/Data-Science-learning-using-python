{
 "cells": [
  {
   "cell_type": "markdown",
   "id": "c93a5055-8781-44f6-a147-9c986f9a9853",
   "metadata": {},
   "source": [
    "# basic array creation\n"
   ]
  },
  {
   "cell_type": "markdown",
   "id": "ff1219ca-20b7-4cb0-9185-d9210a338b93",
   "metadata": {},
   "source": [
    "## importing numpy in array"
   ]
  },
  {
   "cell_type": "code",
   "execution_count": 5,
   "id": "b61aa73e-adac-4137-ae30-48bfb663b702",
   "metadata": {},
   "outputs": [],
   "source": [
    "import numpy as np"
   ]
  },
  {
   "cell_type": "code",
   "execution_count": 9,
   "id": "82e117ba-e0fa-41aa-89da-0821dc907846",
   "metadata": {},
   "outputs": [
    {
     "data": {
      "text/plain": [
       "array([1, 2, 3, 4])"
      ]
     },
     "execution_count": 9,
     "metadata": {},
     "output_type": "execute_result"
    }
   ],
   "source": [
    "arr = np.array([1,2,3,4])\n",
    "arr"
   ]
  },
  {
   "cell_type": "markdown",
   "id": "3f2bb6b1-5aa1-4007-a5bd-e9d75a361589",
   "metadata": {},
   "source": [
    "## creating a multidimensional list using array"
   ]
  },
  {
   "cell_type": "code",
   "execution_count": 10,
   "id": "4282db72-159a-4cd9-bac4-8576385ee7c7",
   "metadata": {},
   "outputs": [
    {
     "data": {
      "text/plain": [
       "[[1, 2, 3], [10, 20, 30], [100, 200, 300]]"
      ]
     },
     "execution_count": 10,
     "metadata": {},
     "output_type": "execute_result"
    }
   ],
   "source": [
    "l = [[1,2,3],[10,20,30],[100,200,300]]\n",
    "l"
   ]
  },
  {
   "cell_type": "code",
   "execution_count": 12,
   "id": "eaa4afc1-aaae-4e37-bcd8-ab64e12837d0",
   "metadata": {},
   "outputs": [
    {
     "data": {
      "text/plain": [
       "array([[  1,   2,   3],\n",
       "       [ 10,  20,  30],\n",
       "       [100, 200, 300]])"
      ]
     },
     "execution_count": 12,
     "metadata": {},
     "output_type": "execute_result"
    }
   ],
   "source": [
    "np.array(l)"
   ]
  },
  {
   "cell_type": "markdown",
   "id": "d2ce81bd-b882-472c-b547-bc6862513ba0",
   "metadata": {},
   "source": [
    "## creating zeros and ones with  zeros and ones function"
   ]
  },
  {
   "cell_type": "code",
   "execution_count": 18,
   "id": "9f8d3f07-de0d-4e50-9bf3-0642ba43b9de",
   "metadata": {},
   "outputs": [
    {
     "data": {
      "text/plain": [
       "array([[0., 0., 0., 0.],\n",
       "       [0., 0., 0., 0.]])"
      ]
     },
     "execution_count": 18,
     "metadata": {},
     "output_type": "execute_result"
    }
   ],
   "source": [
    "arr = np.zeros((2,4))\n",
    "arr"
   ]
  },
  {
   "cell_type": "code",
   "execution_count": 19,
   "id": "2476e9f7-55c5-4600-b003-0534227e4d7a",
   "metadata": {},
   "outputs": [
    {
     "data": {
      "text/plain": [
       "array([[1., 1., 1., 1., 1.],\n",
       "       [1., 1., 1., 1., 1.]])"
      ]
     },
     "execution_count": 19,
     "metadata": {},
     "output_type": "execute_result"
    }
   ],
   "source": [
    "arr = np.ones((2,5))\n",
    "arr"
   ]
  },
  {
   "cell_type": "markdown",
   "id": "f09de258-cb6a-41d3-a9b2-814cbe5fbc7d",
   "metadata": {},
   "source": [
    "## creating a linear scacing array using linspace function"
   ]
  },
  {
   "cell_type": "code",
   "execution_count": 25,
   "id": "ca316d98-e648-47a1-835c-66b7cef2a2a4",
   "metadata": {},
   "outputs": [
    {
     "data": {
      "text/plain": [
       "array([ 1.,  3.,  5.,  7.,  9., 11.])"
      ]
     },
     "execution_count": 25,
     "metadata": {},
     "output_type": "execute_result"
    }
   ],
   "source": [
    "arr = np.linspace(1,11,6)\n",
    "arr"
   ]
  },
  {
   "cell_type": "markdown",
   "id": "b9bbee26-ac15-4f17-8a62-8216251623d4",
   "metadata": {},
   "source": [
    "# random number generation function"
   ]
  },
  {
   "cell_type": "code",
   "execution_count": 33,
   "id": "5a75c87f-0f29-48e3-9a58-69137c7b7cf6",
   "metadata": {},
   "outputs": [
    {
     "data": {
      "text/plain": [
       "array([0.22588036, 0.55641903, 0.67676279, 0.14481507, 0.7756374 ])"
      ]
     },
     "execution_count": 33,
     "metadata": {},
     "output_type": "execute_result"
    }
   ],
   "source": [
    "arr = np.random.rand(5)\n",
    "arr\n"
   ]
  },
  {
   "cell_type": "code",
   "execution_count": 36,
   "id": "6fee7fa8-3c39-4d97-8d54-59e62eb0cf52",
   "metadata": {},
   "outputs": [
    {
     "data": {
      "text/plain": [
       "array([-0.44504598,  0.14847953, -1.50302503, -0.03659594,  2.59948755,\n",
       "       -0.38326702, -0.54957715,  1.47318622,  0.37716398, -2.24541351])"
      ]
     },
     "execution_count": 36,
     "metadata": {},
     "output_type": "execute_result"
    }
   ],
   "source": [
    "arr = np.random.randn(10)\n",
    "arr"
   ]
  },
  {
   "cell_type": "code",
   "execution_count": 42,
   "id": "20658c76-ce75-4dd8-8bef-ec819013efc9",
   "metadata": {},
   "outputs": [
    {
     "data": {
      "text/plain": [
       "array([19, 10, 13, 13, 13], dtype=int32)"
      ]
     },
     "execution_count": 42,
     "metadata": {},
     "output_type": "execute_result"
    }
   ],
   "source": [
    "arr = np.random.randint(10,20,5)\n",
    "arr"
   ]
  },
  {
   "cell_type": "markdown",
   "id": "15bd054e-b0d3-4250-87c2-0b0251e0811e",
   "metadata": {},
   "source": [
    "# array attributes"
   ]
  },
  {
   "cell_type": "code",
   "execution_count": 45,
   "id": "09d1f8a2-fe8c-446d-9ce5-2174b1187d43",
   "metadata": {},
   "outputs": [
    {
     "data": {
      "text/plain": [
       "array([[1, 2, 3],\n",
       "       [4, 5, 6],\n",
       "       [7, 8, 9]])"
      ]
     },
     "execution_count": 45,
     "metadata": {},
     "output_type": "execute_result"
    }
   ],
   "source": [
    "arr = np.array([[1,2,3],[4,5,6],[7,8,9]])\n",
    "arr"
   ]
  },
  {
   "cell_type": "code",
   "execution_count": 46,
   "id": "6d212789-c773-4728-b911-b25df8550dbf",
   "metadata": {},
   "outputs": [
    {
     "data": {
      "text/plain": [
       "(3, 3)"
      ]
     },
     "execution_count": 46,
     "metadata": {},
     "output_type": "execute_result"
    }
   ],
   "source": [
    "arr.shape"
   ]
  },
  {
   "cell_type": "code",
   "execution_count": 47,
   "id": "d1e3e470-0a9c-45e1-94fb-574f9fd6d379",
   "metadata": {},
   "outputs": [
    {
     "data": {
      "text/plain": [
       "9"
      ]
     },
     "execution_count": 47,
     "metadata": {},
     "output_type": "execute_result"
    }
   ],
   "source": [
    "arr.size"
   ]
  },
  {
   "cell_type": "code",
   "execution_count": 49,
   "id": "027f8a9e-2b2f-4707-aba4-b4430c66d0cb",
   "metadata": {},
   "outputs": [
    {
     "data": {
      "text/plain": [
       "dtype('int64')"
      ]
     },
     "execution_count": 49,
     "metadata": {},
     "output_type": "execute_result"
    }
   ],
   "source": [
    "arr.dtype"
   ]
  },
  {
   "cell_type": "markdown",
   "id": "7835dc37-525f-441c-915d-05dc409c67da",
   "metadata": {},
   "source": [
    "# array methods"
   ]
  },
  {
   "cell_type": "code",
   "execution_count": 50,
   "id": "2827397b-e88f-4a23-8dc0-48b0e961770b",
   "metadata": {},
   "outputs": [
    {
     "data": {
      "text/plain": [
       "array([[1, 2, 3],\n",
       "       [4, 5, 6],\n",
       "       [7, 8, 9]])"
      ]
     },
     "execution_count": 50,
     "metadata": {},
     "output_type": "execute_result"
    }
   ],
   "source": [
    "arr"
   ]
  },
  {
   "cell_type": "code",
   "execution_count": 53,
   "id": "0c7c0ead-96e4-404d-8d54-083c014b9d21",
   "metadata": {},
   "outputs": [
    {
     "data": {
      "text/plain": [
       "np.int64(1)"
      ]
     },
     "execution_count": 53,
     "metadata": {},
     "output_type": "execute_result"
    }
   ],
   "source": [
    "arr.min()"
   ]
  },
  {
   "cell_type": "code",
   "execution_count": 54,
   "id": "f24ae10a-bd02-4f0b-932d-517076a16e5c",
   "metadata": {},
   "outputs": [
    {
     "data": {
      "text/plain": [
       "np.int64(9)"
      ]
     },
     "execution_count": 54,
     "metadata": {},
     "output_type": "execute_result"
    }
   ],
   "source": [
    "arr.max() # getting maximum num from array"
   ]
  },
  {
   "cell_type": "code",
   "execution_count": 55,
   "id": "c6998104-de10-44be-ba32-e138998a43f5",
   "metadata": {
    "scrolled": true
   },
   "outputs": [
    {
     "data": {
      "text/plain": [
       "np.int64(45)"
      ]
     },
     "execution_count": 55,
     "metadata": {},
     "output_type": "execute_result"
    }
   ],
   "source": [
    "arr.sum()"
   ]
  },
  {
   "cell_type": "markdown",
   "id": "f7d593de-ee20-4ad9-992e-84fcd51ef650",
   "metadata": {},
   "source": [
    "## column wise sum of multidimensional array"
   ]
  },
  {
   "cell_type": "code",
   "execution_count": 57,
   "id": "207e496e-0c1f-48f8-85bd-314cef13cfff",
   "metadata": {},
   "outputs": [
    {
     "data": {
      "text/plain": [
       "array([12, 15, 18])"
      ]
     },
     "execution_count": 57,
     "metadata": {},
     "output_type": "execute_result"
    }
   ],
   "source": [
    "arr.sum(axis =0)"
   ]
  },
  {
   "cell_type": "markdown",
   "id": "b0231868-33c4-48fd-b1c1-e28b075bcd44",
   "metadata": {},
   "source": [
    "## row wise sum of multidimensional array"
   ]
  },
  {
   "cell_type": "code",
   "execution_count": 58,
   "id": "d5f19e1c-306d-4d9f-b67d-a34a2cda5279",
   "metadata": {},
   "outputs": [
    {
     "data": {
      "text/plain": [
       "array([ 6, 15, 24])"
      ]
     },
     "execution_count": 58,
     "metadata": {},
     "output_type": "execute_result"
    }
   ],
   "source": [
    "arr.sum(axis=1)"
   ]
  },
  {
   "cell_type": "markdown",
   "id": "49535336-0d23-44c9-8683-74706830c513",
   "metadata": {},
   "source": [
    "# reshaping and resizing"
   ]
  },
  {
   "cell_type": "code",
   "execution_count": 64,
   "id": "d128549e-f50f-4ed0-8b68-92bd86a68137",
   "metadata": {},
   "outputs": [
    {
     "data": {
      "text/plain": [
       "array([ 1,  2,  3,  4,  5,  6,  7,  8,  9, 10, 11, 12, 13, 14, 15, 16, 17,\n",
       "       18, 19, 20, 21, 22, 23, 24, 25, 26, 27, 28, 29, 30])"
      ]
     },
     "execution_count": 64,
     "metadata": {},
     "output_type": "execute_result"
    }
   ],
   "source": [
    "arr = np.arange(1,31)\n",
    "arr"
   ]
  },
  {
   "cell_type": "code",
   "execution_count": 65,
   "id": "6710de63-d7b7-4de8-8c83-e0585b6d241f",
   "metadata": {},
   "outputs": [
    {
     "data": {
      "text/plain": [
       "array([[ 1,  2,  3,  4,  5],\n",
       "       [ 6,  7,  8,  9, 10],\n",
       "       [11, 12, 13, 14, 15],\n",
       "       [16, 17, 18, 19, 20],\n",
       "       [21, 22, 23, 24, 25],\n",
       "       [26, 27, 28, 29, 30]])"
      ]
     },
     "execution_count": 65,
     "metadata": {},
     "output_type": "execute_result"
    }
   ],
   "source": [
    "arr.reshape(6,5)"
   ]
  },
  {
   "cell_type": "code",
   "execution_count": null,
   "id": "2ad4b4ba-3390-45d1-af14-743c4162377c",
   "metadata": {},
   "outputs": [],
   "source": []
  },
  {
   "cell_type": "markdown",
   "id": "8d4ed4a8-5c25-40c4-94b2-f797a6833cfe",
   "metadata": {},
   "source": [
    "# Array indexing and slicing"
   ]
  },
  {
   "cell_type": "code",
   "execution_count": 68,
   "id": "4dd36f48-8e56-40ab-a183-e65bc8b78763",
   "metadata": {},
   "outputs": [
    {
     "data": {
      "text/plain": [
       "array([11, 12, 13, 14, 15, 16, 17, 18, 19, 20])"
      ]
     },
     "execution_count": 68,
     "metadata": {},
     "output_type": "execute_result"
    }
   ],
   "source": [
    "arr = np.arange(11,21)\n",
    "arr"
   ]
  },
  {
   "cell_type": "markdown",
   "id": "122fb7bd-2bc3-4878-8e31-e303f1e919c8",
   "metadata": {},
   "source": [
    "indexing in array is same as indexing in list"
   ]
  },
  {
   "cell_type": "code",
   "execution_count": 70,
   "id": "47996ace-1f73-45e1-ba4e-e4f5305ca89d",
   "metadata": {},
   "outputs": [
    {
     "data": {
      "text/plain": [
       "np.int64(14)"
      ]
     },
     "execution_count": 70,
     "metadata": {},
     "output_type": "execute_result"
    }
   ],
   "source": [
    "arr[3]"
   ]
  },
  {
   "cell_type": "code",
   "execution_count": 71,
   "id": "e479e899-952e-49a9-9ace-83d347019fc2",
   "metadata": {},
   "outputs": [
    {
     "data": {
      "text/plain": [
       "array([13, 14, 15, 16, 17, 18, 19, 20])"
      ]
     },
     "execution_count": 71,
     "metadata": {},
     "output_type": "execute_result"
    }
   ],
   "source": [
    "arr[2::]"
   ]
  },
  {
   "cell_type": "code",
   "execution_count": 72,
   "id": "8285c41f-251f-47d1-912e-33cd0e80f0b5",
   "metadata": {},
   "outputs": [
    {
     "data": {
      "text/plain": [
       "array([13, 14])"
      ]
     },
     "execution_count": 72,
     "metadata": {},
     "output_type": "execute_result"
    }
   ],
   "source": [
    "arr[2:4]"
   ]
  },
  {
   "cell_type": "code",
   "execution_count": 73,
   "id": "d229dc22-2ee8-4c2c-b7c2-39ed1eec8cc0",
   "metadata": {},
   "outputs": [
    {
     "data": {
      "text/plain": [
       "array([13, 15, 17, 19])"
      ]
     },
     "execution_count": 73,
     "metadata": {},
     "output_type": "execute_result"
    }
   ],
   "source": [
    "arr[2::2]"
   ]
  },
  {
   "cell_type": "code",
   "execution_count": 74,
   "id": "6d8d9655-fa55-4e05-bb00-634e208232a9",
   "metadata": {},
   "outputs": [
    {
     "data": {
      "text/plain": [
       "array([11, 12, 13, 14, 15, 16, 17, 18, 19, 20])"
      ]
     },
     "execution_count": 74,
     "metadata": {},
     "output_type": "execute_result"
    }
   ],
   "source": [
    "arr\n"
   ]
  },
  {
   "cell_type": "markdown",
   "id": "c1486090-748a-4f0a-b065-0e4d843bc9d1",
   "metadata": {},
   "source": [
    "# Numpy indexing and splicing in multidimensional array"
   ]
  },
  {
   "cell_type": "code",
   "execution_count": 81,
   "id": "528a0d61-2279-4eef-9cf6-362283e86b7c",
   "metadata": {},
   "outputs": [
    {
     "data": {
      "text/plain": [
       "array([[ 1,  2,  3,  4,  5],\n",
       "       [ 6,  7,  8,  9, 10],\n",
       "       [11, 12, 13, 14, 15],\n",
       "       [16, 17, 18, 19, 20],\n",
       "       [21, 22, 23, 24, 25],\n",
       "       [26, 27, 28, 29, 30]])"
      ]
     },
     "execution_count": 81,
     "metadata": {},
     "output_type": "execute_result"
    }
   ],
   "source": [
    "arr = np.arange(1,31).reshape(6,5)\n",
    "arr"
   ]
  },
  {
   "cell_type": "code",
   "execution_count": 84,
   "id": "45007d02-353c-43de-96a8-1be323e02c34",
   "metadata": {},
   "outputs": [
    {
     "data": {
      "text/plain": [
       "array([[ 1,  2,  3,  4,  5],\n",
       "       [ 6,  7,  8,  9, 10]])"
      ]
     },
     "execution_count": 84,
     "metadata": {},
     "output_type": "execute_result"
    }
   ],
   "source": [
    "arr[0:2]"
   ]
  },
  {
   "cell_type": "code",
   "execution_count": 85,
   "id": "1553dcd3-e609-42c3-86a4-cc1965f31a82",
   "metadata": {},
   "outputs": [
    {
     "data": {
      "text/plain": [
       "np.int64(1)"
      ]
     },
     "execution_count": 85,
     "metadata": {},
     "output_type": "execute_result"
    }
   ],
   "source": [
    "arr[0,0]"
   ]
  },
  {
   "cell_type": "code",
   "execution_count": 86,
   "id": "358078cf-5977-4de4-a7cb-361fb27de9d6",
   "metadata": {},
   "outputs": [
    {
     "data": {
      "text/plain": [
       "np.int64(21)"
      ]
     },
     "execution_count": 86,
     "metadata": {},
     "output_type": "execute_result"
    }
   ],
   "source": [
    "arr[4,0]"
   ]
  },
  {
   "cell_type": "code",
   "execution_count": 87,
   "id": "8901cbbe-509f-4d02-a668-1319ee057615",
   "metadata": {},
   "outputs": [
    {
     "data": {
      "text/plain": [
       "array([[ 1,  2,  3,  4,  5],\n",
       "       [ 6,  7,  8,  9, 10],\n",
       "       [11, 12, 13, 14, 15],\n",
       "       [16, 17, 18, 19, 20],\n",
       "       [21, 22, 23, 24, 25],\n",
       "       [26, 27, 28, 29, 30]])"
      ]
     },
     "execution_count": 87,
     "metadata": {},
     "output_type": "execute_result"
    }
   ],
   "source": [
    "arr"
   ]
  },
  {
   "cell_type": "code",
   "execution_count": 88,
   "id": "4fb1912e-8e42-47ad-a3eb-c08e47789c5f",
   "metadata": {},
   "outputs": [
    {
     "data": {
      "text/plain": [
       "array([[13, 14],\n",
       "       [18, 19]])"
      ]
     },
     "execution_count": 88,
     "metadata": {},
     "output_type": "execute_result"
    }
   ],
   "source": [
    "arr[2:4,2:4]"
   ]
  },
  {
   "cell_type": "code",
   "execution_count": 90,
   "id": "d7331d59-650c-43d1-a3ea-4c66447beadc",
   "metadata": {},
   "outputs": [
    {
     "data": {
      "text/plain": [
       "array([[19, 20],\n",
       "       [24, 25],\n",
       "       [29, 30]])"
      ]
     },
     "execution_count": 90,
     "metadata": {},
     "output_type": "execute_result"
    }
   ],
   "source": [
    "arr[3: ,3:]\n"
   ]
  },
  {
   "cell_type": "code",
   "execution_count": 92,
   "id": "c0a1532f-da19-4315-b703-b7335893404a",
   "metadata": {},
   "outputs": [
    {
     "data": {
      "text/plain": [
       "array([ 4,  9, 14, 19, 24, 29])"
      ]
     },
     "execution_count": 92,
     "metadata": {},
     "output_type": "execute_result"
    }
   ],
   "source": [
    "arr[:,3]"
   ]
  },
  {
   "cell_type": "markdown",
   "id": "9affca90-4824-4088-b8da-e5934f5a62b1",
   "metadata": {},
   "source": [
    "# Bool indexing"
   ]
  },
  {
   "cell_type": "code",
   "execution_count": 100,
   "id": "241670e8-6fea-4ff3-9dfa-7b66a99d5fd8",
   "metadata": {},
   "outputs": [
    {
     "data": {
      "text/plain": [
       "array([ 1,  2,  3,  4,  5,  6,  7,  8,  9, 10])"
      ]
     },
     "execution_count": 100,
     "metadata": {},
     "output_type": "execute_result"
    }
   ],
   "source": [
    "arr = np.arange(1,11)\n",
    "arr"
   ]
  },
  {
   "cell_type": "code",
   "execution_count": 101,
   "id": "e4bb9c4c-eda2-4361-84bf-f8b337123736",
   "metadata": {},
   "outputs": [
    {
     "data": {
      "text/plain": [
       "array([False,  True, False,  True, False,  True, False,  True, False,\n",
       "        True])"
      ]
     },
     "execution_count": 101,
     "metadata": {},
     "output_type": "execute_result"
    }
   ],
   "source": [
    "arr % 2 == 0"
   ]
  },
  {
   "cell_type": "code",
   "execution_count": 102,
   "id": "c8c8028c-d6c4-44a8-bca9-c21f5f1c9447",
   "metadata": {},
   "outputs": [
    {
     "data": {
      "text/plain": [
       "array([False,  True, False,  True, False,  True, False,  True, False,\n",
       "        True])"
      ]
     },
     "execution_count": 102,
     "metadata": {},
     "output_type": "execute_result"
    }
   ],
   "source": [
    "bool_index = arr%2 ==0\n",
    "bool_index"
   ]
  },
  {
   "cell_type": "code",
   "execution_count": 103,
   "id": "d1ad064c-1fce-4afb-8812-16d864169181",
   "metadata": {},
   "outputs": [
    {
     "data": {
      "text/plain": [
       "array([ 2,  4,  6,  8, 10])"
      ]
     },
     "execution_count": 103,
     "metadata": {},
     "output_type": "execute_result"
    }
   ],
   "source": [
    "arr = arr[bool_index]\n",
    "arr"
   ]
  },
  {
   "cell_type": "code",
   "execution_count": null,
   "id": "3bb2f0a6-77a7-45e8-91df-90c431611a29",
   "metadata": {},
   "outputs": [],
   "source": []
  }
 ],
 "metadata": {
  "kernelspec": {
   "display_name": "Python 3 (ipykernel)",
   "language": "python",
   "name": "python3"
  },
  "language_info": {
   "codemirror_mode": {
    "name": "ipython",
    "version": 3
   },
   "file_extension": ".py",
   "mimetype": "text/x-python",
   "name": "python",
   "nbconvert_exporter": "python",
   "pygments_lexer": "ipython3",
   "version": "3.13.5"
  }
 },
 "nbformat": 4,
 "nbformat_minor": 5
}
