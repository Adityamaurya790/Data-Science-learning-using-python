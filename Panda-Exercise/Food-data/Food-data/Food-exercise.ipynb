{
 "cells": [
  {
   "cell_type": "markdown",
   "id": "11182512-964f-459b-a268-dd3e121bdfb0",
   "metadata": {},
   "source": [
    "#### Step 1. Go to https://www.kaggle.com/openfoodfacts/world-food-facts/data\n",
    "#### Step 2. Download the dataset to your computer and unzip it."
   ]
  },
  {
   "cell_type": "markdown",
   "id": "36cd0e29-4a84-4a92-b8c1-e610e7da5ebe",
   "metadata": {},
   "source": [
    "#### Q) 1. Use the tsv file and assign it to a dataframe called df(data of food)"
   ]
  },
  {
   "cell_type": "markdown",
   "id": "171d6c13-c3f1-44e9-9e05-a2e5fa83b45a",
   "metadata": {},
   "source": [
    "#### Q) 2. See the first 5 entries"
   ]
  },
  {
   "cell_type": "markdown",
   "id": "dbcfc1e9-5ecc-46f2-bc0c-a61b2ff8a217",
   "metadata": {},
   "source": [
    "#### Q) 3. See the last 5 entries"
   ]
  },
  {
   "cell_type": "markdown",
   "id": "9c03e35b-6097-4dc5-b70f-e5fe74a74464",
   "metadata": {},
   "source": [
    "#### Q) 4. What is the number of observations in the dataset?"
   ]
  },
  {
   "cell_type": "markdown",
   "id": "3324f624-3315-471a-b5bc-d9d612d3d918",
   "metadata": {},
   "source": [
    "#### Q) 5. What is the number of columns in the dataset?"
   ]
  },
  {
   "cell_type": "markdown",
   "id": "6ce971e5-ef8e-4bd1-9f79-ef759d2db950",
   "metadata": {},
   "source": [
    "\n",
    "#### Q) 6. Print the name of all the columns.\n"
   ]
  },
  {
   "cell_type": "markdown",
   "id": "3c2a3aee-954a-440c-aa58-6f61a21f720a",
   "metadata": {},
   "source": [
    "\n",
    "#### Q) 7. What is the name of 105th column?\n"
   ]
  },
  {
   "cell_type": "markdown",
   "id": "d8905fc0-71ed-46b1-b2e8-12612b059b1f",
   "metadata": {},
   "source": [
    "\n",
    "#### Q) 8. What is the type of the observations of the 105th column?\n"
   ]
  },
  {
   "cell_type": "markdown",
   "id": "addf5ddc-0f9a-4e65-9dc6-74070285c3da",
   "metadata": {},
   "source": [
    "\n",
    "#### Q) 9. How is the dataset indexed?\n"
   ]
  },
  {
   "cell_type": "markdown",
   "id": "ff700375-6f56-4bab-801a-2e80388c9503",
   "metadata": {},
   "source": [
    "\n",
    "#### Q) 10. What is the product name of the 19th observation?\n",
    "\n"
   ]
  }
 ],
 "metadata": {
  "kernelspec": {
   "display_name": "Python 3 (ipykernel)",
   "language": "python",
   "name": "python3"
  },
  "language_info": {
   "codemirror_mode": {
    "name": "ipython",
    "version": 3
   },
   "file_extension": ".py",
   "mimetype": "text/x-python",
   "name": "python",
   "nbconvert_exporter": "python",
   "pygments_lexer": "ipython3",
   "version": "3.13.5"
  }
 },
 "nbformat": 4,
 "nbformat_minor": 5
}
